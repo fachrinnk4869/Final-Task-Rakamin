{
 "cells": [
  {
   "cell_type": "code",
   "execution_count": 127,
   "metadata": {},
   "outputs": [],
   "source": [
    "import pandas as pd\n",
    "import numpy as np\n",
    "import seaborn as sns\n",
    "import matplotlib.pyplot as plt\n",
    "pd.set_option('display.max_columns', None)\n",
    "pd.set_option('display.max_rows', 50)"
   ]
  },
  {
   "cell_type": "code",
   "execution_count": 128,
   "metadata": {},
   "outputs": [
    {
     "name": "stderr",
     "output_type": "stream",
     "text": [
      "C:\\Temp\\ipykernel_10940\\1835913424.py:1: DtypeWarning: Columns (20) have mixed types. Specify dtype option on import or set low_memory=False.\n",
      "  df=pd.read_csv(\"loan_data_2007_2014.csv\")\n"
     ]
    }
   ],
   "source": [
    "df=pd.read_csv(\"loan_data_2007_2014.csv\")"
   ]
  },
  {
   "cell_type": "markdown",
   "metadata": {},
   "source": [
    "# Data Understanding"
   ]
  },
  {
   "cell_type": "code",
   "execution_count": 129,
   "metadata": {},
   "outputs": [
    {
     "data": {
      "text/plain": [
       "(466285, 75)"
      ]
     },
     "execution_count": 129,
     "metadata": {},
     "output_type": "execute_result"
    }
   ],
   "source": [
    "df.shape"
   ]
  },
  {
   "cell_type": "code",
   "execution_count": 130,
   "metadata": {},
   "outputs": [
    {
     "name": "stdout",
     "output_type": "stream",
     "text": [
      "<class 'pandas.core.frame.DataFrame'>\n",
      "RangeIndex: 466285 entries, 0 to 466284\n",
      "Data columns (total 75 columns):\n",
      " #   Column                       Non-Null Count   Dtype  \n",
      "---  ------                       --------------   -----  \n",
      " 0   Unnamed: 0                   466285 non-null  int64  \n",
      " 1   id                           466285 non-null  int64  \n",
      " 2   member_id                    466285 non-null  int64  \n",
      " 3   loan_amnt                    466285 non-null  int64  \n",
      " 4   funded_amnt                  466285 non-null  int64  \n",
      " 5   funded_amnt_inv              466285 non-null  float64\n",
      " 6   term                         466285 non-null  object \n",
      " 7   int_rate                     466285 non-null  float64\n",
      " 8   installment                  466285 non-null  float64\n",
      " 9   grade                        466285 non-null  object \n",
      " 10  sub_grade                    466285 non-null  object \n",
      " 11  emp_title                    438697 non-null  object \n",
      " 12  emp_length                   445277 non-null  object \n",
      " 13  home_ownership               466285 non-null  object \n",
      " 14  annual_inc                   466281 non-null  float64\n",
      " 15  verification_status          466285 non-null  object \n",
      " 16  issue_d                      466285 non-null  object \n",
      " 17  loan_status                  466285 non-null  object \n",
      " 18  pymnt_plan                   466285 non-null  object \n",
      " 19  url                          466285 non-null  object \n",
      " 20  desc                         125983 non-null  object \n",
      " 21  purpose                      466285 non-null  object \n",
      " 22  title                        466265 non-null  object \n",
      " 23  zip_code                     466285 non-null  object \n",
      " 24  addr_state                   466285 non-null  object \n",
      " 25  dti                          466285 non-null  float64\n",
      " 26  delinq_2yrs                  466256 non-null  float64\n",
      " 27  earliest_cr_line             466256 non-null  object \n",
      " 28  inq_last_6mths               466256 non-null  float64\n",
      " 29  mths_since_last_delinq       215934 non-null  float64\n",
      " 30  mths_since_last_record       62638 non-null   float64\n",
      " 31  open_acc                     466256 non-null  float64\n",
      " 32  pub_rec                      466256 non-null  float64\n",
      " 33  revol_bal                    466285 non-null  int64  \n",
      " 34  revol_util                   465945 non-null  float64\n",
      " 35  total_acc                    466256 non-null  float64\n",
      " 36  initial_list_status          466285 non-null  object \n",
      " 37  out_prncp                    466285 non-null  float64\n",
      " 38  out_prncp_inv                466285 non-null  float64\n",
      " 39  total_pymnt                  466285 non-null  float64\n",
      " 40  total_pymnt_inv              466285 non-null  float64\n",
      " 41  total_rec_prncp              466285 non-null  float64\n",
      " 42  total_rec_int                466285 non-null  float64\n",
      " 43  total_rec_late_fee           466285 non-null  float64\n",
      " 44  recoveries                   466285 non-null  float64\n",
      " 45  collection_recovery_fee      466285 non-null  float64\n",
      " 46  last_pymnt_d                 465909 non-null  object \n",
      " 47  last_pymnt_amnt              466285 non-null  float64\n",
      " 48  next_pymnt_d                 239071 non-null  object \n",
      " 49  last_credit_pull_d           466243 non-null  object \n",
      " 50  collections_12_mths_ex_med   466140 non-null  float64\n",
      " 51  mths_since_last_major_derog  98974 non-null   float64\n",
      " 52  policy_code                  466285 non-null  int64  \n",
      " 53  application_type             466285 non-null  object \n",
      " 54  annual_inc_joint             0 non-null       float64\n",
      " 55  dti_joint                    0 non-null       float64\n",
      " 56  verification_status_joint    0 non-null       float64\n",
      " 57  acc_now_delinq               466256 non-null  float64\n",
      " 58  tot_coll_amt                 396009 non-null  float64\n",
      " 59  tot_cur_bal                  396009 non-null  float64\n",
      " 60  open_acc_6m                  0 non-null       float64\n",
      " 61  open_il_6m                   0 non-null       float64\n",
      " 62  open_il_12m                  0 non-null       float64\n",
      " 63  open_il_24m                  0 non-null       float64\n",
      " 64  mths_since_rcnt_il           0 non-null       float64\n",
      " 65  total_bal_il                 0 non-null       float64\n",
      " 66  il_util                      0 non-null       float64\n",
      " 67  open_rv_12m                  0 non-null       float64\n",
      " 68  open_rv_24m                  0 non-null       float64\n",
      " 69  max_bal_bc                   0 non-null       float64\n",
      " 70  all_util                     0 non-null       float64\n",
      " 71  total_rev_hi_lim             396009 non-null  float64\n",
      " 72  inq_fi                       0 non-null       float64\n",
      " 73  total_cu_tl                  0 non-null       float64\n",
      " 74  inq_last_12m                 0 non-null       float64\n",
      "dtypes: float64(46), int64(7), object(22)\n",
      "memory usage: 266.8+ MB\n"
     ]
    }
   ],
   "source": [
    "df.info()"
   ]
  },
  {
   "cell_type": "code",
   "execution_count": 131,
   "metadata": {},
   "outputs": [
    {
     "data": {
      "text/html": [
       "<div>\n",
       "<style scoped>\n",
       "    .dataframe tbody tr th:only-of-type {\n",
       "        vertical-align: middle;\n",
       "    }\n",
       "\n",
       "    .dataframe tbody tr th {\n",
       "        vertical-align: top;\n",
       "    }\n",
       "\n",
       "    .dataframe thead th {\n",
       "        text-align: right;\n",
       "    }\n",
       "</style>\n",
       "<table border=\"1\" class=\"dataframe\">\n",
       "  <thead>\n",
       "    <tr style=\"text-align: right;\">\n",
       "      <th></th>\n",
       "      <th>Unnamed: 0</th>\n",
       "      <th>id</th>\n",
       "      <th>member_id</th>\n",
       "      <th>loan_amnt</th>\n",
       "      <th>funded_amnt</th>\n",
       "      <th>funded_amnt_inv</th>\n",
       "      <th>term</th>\n",
       "      <th>int_rate</th>\n",
       "      <th>installment</th>\n",
       "      <th>grade</th>\n",
       "      <th>sub_grade</th>\n",
       "      <th>emp_title</th>\n",
       "      <th>emp_length</th>\n",
       "      <th>home_ownership</th>\n",
       "      <th>annual_inc</th>\n",
       "      <th>verification_status</th>\n",
       "      <th>issue_d</th>\n",
       "      <th>loan_status</th>\n",
       "      <th>pymnt_plan</th>\n",
       "      <th>url</th>\n",
       "      <th>desc</th>\n",
       "      <th>purpose</th>\n",
       "      <th>title</th>\n",
       "      <th>zip_code</th>\n",
       "      <th>addr_state</th>\n",
       "      <th>dti</th>\n",
       "      <th>delinq_2yrs</th>\n",
       "      <th>earliest_cr_line</th>\n",
       "      <th>inq_last_6mths</th>\n",
       "      <th>mths_since_last_delinq</th>\n",
       "      <th>mths_since_last_record</th>\n",
       "      <th>open_acc</th>\n",
       "      <th>pub_rec</th>\n",
       "      <th>revol_bal</th>\n",
       "      <th>revol_util</th>\n",
       "      <th>total_acc</th>\n",
       "      <th>initial_list_status</th>\n",
       "      <th>out_prncp</th>\n",
       "      <th>out_prncp_inv</th>\n",
       "      <th>total_pymnt</th>\n",
       "      <th>total_pymnt_inv</th>\n",
       "      <th>total_rec_prncp</th>\n",
       "      <th>total_rec_int</th>\n",
       "      <th>total_rec_late_fee</th>\n",
       "      <th>recoveries</th>\n",
       "      <th>collection_recovery_fee</th>\n",
       "      <th>last_pymnt_d</th>\n",
       "      <th>last_pymnt_amnt</th>\n",
       "      <th>next_pymnt_d</th>\n",
       "      <th>last_credit_pull_d</th>\n",
       "      <th>collections_12_mths_ex_med</th>\n",
       "      <th>mths_since_last_major_derog</th>\n",
       "      <th>policy_code</th>\n",
       "      <th>application_type</th>\n",
       "      <th>annual_inc_joint</th>\n",
       "      <th>dti_joint</th>\n",
       "      <th>verification_status_joint</th>\n",
       "      <th>acc_now_delinq</th>\n",
       "      <th>tot_coll_amt</th>\n",
       "      <th>tot_cur_bal</th>\n",
       "      <th>open_acc_6m</th>\n",
       "      <th>open_il_6m</th>\n",
       "      <th>open_il_12m</th>\n",
       "      <th>open_il_24m</th>\n",
       "      <th>mths_since_rcnt_il</th>\n",
       "      <th>total_bal_il</th>\n",
       "      <th>il_util</th>\n",
       "      <th>open_rv_12m</th>\n",
       "      <th>open_rv_24m</th>\n",
       "      <th>max_bal_bc</th>\n",
       "      <th>all_util</th>\n",
       "      <th>total_rev_hi_lim</th>\n",
       "      <th>inq_fi</th>\n",
       "      <th>total_cu_tl</th>\n",
       "      <th>inq_last_12m</th>\n",
       "    </tr>\n",
       "  </thead>\n",
       "  <tbody>\n",
       "    <tr>\n",
       "      <th>0</th>\n",
       "      <td>0</td>\n",
       "      <td>1077501</td>\n",
       "      <td>1296599</td>\n",
       "      <td>5000</td>\n",
       "      <td>5000</td>\n",
       "      <td>4975.0</td>\n",
       "      <td>36 months</td>\n",
       "      <td>10.65</td>\n",
       "      <td>162.87</td>\n",
       "      <td>B</td>\n",
       "      <td>B2</td>\n",
       "      <td>NaN</td>\n",
       "      <td>10+ years</td>\n",
       "      <td>RENT</td>\n",
       "      <td>24000.0</td>\n",
       "      <td>Verified</td>\n",
       "      <td>Dec-11</td>\n",
       "      <td>Fully Paid</td>\n",
       "      <td>n</td>\n",
       "      <td>https://www.lendingclub.com/browse/loanDetail....</td>\n",
       "      <td>Borrower added on 12/22/11 &gt; I need to upgra...</td>\n",
       "      <td>credit_card</td>\n",
       "      <td>Computer</td>\n",
       "      <td>860xx</td>\n",
       "      <td>AZ</td>\n",
       "      <td>27.65</td>\n",
       "      <td>0.0</td>\n",
       "      <td>Jan-85</td>\n",
       "      <td>1.0</td>\n",
       "      <td>NaN</td>\n",
       "      <td>NaN</td>\n",
       "      <td>3.0</td>\n",
       "      <td>0.0</td>\n",
       "      <td>13648</td>\n",
       "      <td>83.7</td>\n",
       "      <td>9.0</td>\n",
       "      <td>f</td>\n",
       "      <td>0.0</td>\n",
       "      <td>0.0</td>\n",
       "      <td>5861.071414</td>\n",
       "      <td>5831.78</td>\n",
       "      <td>5000.00</td>\n",
       "      <td>861.07</td>\n",
       "      <td>0.00</td>\n",
       "      <td>0.00</td>\n",
       "      <td>0.00</td>\n",
       "      <td>Jan-15</td>\n",
       "      <td>171.62</td>\n",
       "      <td>NaN</td>\n",
       "      <td>Jan-16</td>\n",
       "      <td>0.0</td>\n",
       "      <td>NaN</td>\n",
       "      <td>1</td>\n",
       "      <td>INDIVIDUAL</td>\n",
       "      <td>NaN</td>\n",
       "      <td>NaN</td>\n",
       "      <td>NaN</td>\n",
       "      <td>0.0</td>\n",
       "      <td>NaN</td>\n",
       "      <td>NaN</td>\n",
       "      <td>NaN</td>\n",
       "      <td>NaN</td>\n",
       "      <td>NaN</td>\n",
       "      <td>NaN</td>\n",
       "      <td>NaN</td>\n",
       "      <td>NaN</td>\n",
       "      <td>NaN</td>\n",
       "      <td>NaN</td>\n",
       "      <td>NaN</td>\n",
       "      <td>NaN</td>\n",
       "      <td>NaN</td>\n",
       "      <td>NaN</td>\n",
       "      <td>NaN</td>\n",
       "      <td>NaN</td>\n",
       "      <td>NaN</td>\n",
       "    </tr>\n",
       "    <tr>\n",
       "      <th>1</th>\n",
       "      <td>1</td>\n",
       "      <td>1077430</td>\n",
       "      <td>1314167</td>\n",
       "      <td>2500</td>\n",
       "      <td>2500</td>\n",
       "      <td>2500.0</td>\n",
       "      <td>60 months</td>\n",
       "      <td>15.27</td>\n",
       "      <td>59.83</td>\n",
       "      <td>C</td>\n",
       "      <td>C4</td>\n",
       "      <td>Ryder</td>\n",
       "      <td>&lt; 1 year</td>\n",
       "      <td>RENT</td>\n",
       "      <td>30000.0</td>\n",
       "      <td>Source Verified</td>\n",
       "      <td>Dec-11</td>\n",
       "      <td>Charged Off</td>\n",
       "      <td>n</td>\n",
       "      <td>https://www.lendingclub.com/browse/loanDetail....</td>\n",
       "      <td>Borrower added on 12/22/11 &gt; I plan to use t...</td>\n",
       "      <td>car</td>\n",
       "      <td>bike</td>\n",
       "      <td>309xx</td>\n",
       "      <td>GA</td>\n",
       "      <td>1.00</td>\n",
       "      <td>0.0</td>\n",
       "      <td>Apr-99</td>\n",
       "      <td>5.0</td>\n",
       "      <td>NaN</td>\n",
       "      <td>NaN</td>\n",
       "      <td>3.0</td>\n",
       "      <td>0.0</td>\n",
       "      <td>1687</td>\n",
       "      <td>9.4</td>\n",
       "      <td>4.0</td>\n",
       "      <td>f</td>\n",
       "      <td>0.0</td>\n",
       "      <td>0.0</td>\n",
       "      <td>1008.710000</td>\n",
       "      <td>1008.71</td>\n",
       "      <td>456.46</td>\n",
       "      <td>435.17</td>\n",
       "      <td>0.00</td>\n",
       "      <td>117.08</td>\n",
       "      <td>1.11</td>\n",
       "      <td>Apr-13</td>\n",
       "      <td>119.66</td>\n",
       "      <td>NaN</td>\n",
       "      <td>Sep-13</td>\n",
       "      <td>0.0</td>\n",
       "      <td>NaN</td>\n",
       "      <td>1</td>\n",
       "      <td>INDIVIDUAL</td>\n",
       "      <td>NaN</td>\n",
       "      <td>NaN</td>\n",
       "      <td>NaN</td>\n",
       "      <td>0.0</td>\n",
       "      <td>NaN</td>\n",
       "      <td>NaN</td>\n",
       "      <td>NaN</td>\n",
       "      <td>NaN</td>\n",
       "      <td>NaN</td>\n",
       "      <td>NaN</td>\n",
       "      <td>NaN</td>\n",
       "      <td>NaN</td>\n",
       "      <td>NaN</td>\n",
       "      <td>NaN</td>\n",
       "      <td>NaN</td>\n",
       "      <td>NaN</td>\n",
       "      <td>NaN</td>\n",
       "      <td>NaN</td>\n",
       "      <td>NaN</td>\n",
       "      <td>NaN</td>\n",
       "      <td>NaN</td>\n",
       "    </tr>\n",
       "    <tr>\n",
       "      <th>2</th>\n",
       "      <td>2</td>\n",
       "      <td>1077175</td>\n",
       "      <td>1313524</td>\n",
       "      <td>2400</td>\n",
       "      <td>2400</td>\n",
       "      <td>2400.0</td>\n",
       "      <td>36 months</td>\n",
       "      <td>15.96</td>\n",
       "      <td>84.33</td>\n",
       "      <td>C</td>\n",
       "      <td>C5</td>\n",
       "      <td>NaN</td>\n",
       "      <td>10+ years</td>\n",
       "      <td>RENT</td>\n",
       "      <td>12252.0</td>\n",
       "      <td>Not Verified</td>\n",
       "      <td>Dec-11</td>\n",
       "      <td>Fully Paid</td>\n",
       "      <td>n</td>\n",
       "      <td>https://www.lendingclub.com/browse/loanDetail....</td>\n",
       "      <td>NaN</td>\n",
       "      <td>small_business</td>\n",
       "      <td>real estate business</td>\n",
       "      <td>606xx</td>\n",
       "      <td>IL</td>\n",
       "      <td>8.72</td>\n",
       "      <td>0.0</td>\n",
       "      <td>Nov-01</td>\n",
       "      <td>2.0</td>\n",
       "      <td>NaN</td>\n",
       "      <td>NaN</td>\n",
       "      <td>2.0</td>\n",
       "      <td>0.0</td>\n",
       "      <td>2956</td>\n",
       "      <td>98.5</td>\n",
       "      <td>10.0</td>\n",
       "      <td>f</td>\n",
       "      <td>0.0</td>\n",
       "      <td>0.0</td>\n",
       "      <td>3003.653644</td>\n",
       "      <td>3003.65</td>\n",
       "      <td>2400.00</td>\n",
       "      <td>603.65</td>\n",
       "      <td>0.00</td>\n",
       "      <td>0.00</td>\n",
       "      <td>0.00</td>\n",
       "      <td>Jun-14</td>\n",
       "      <td>649.91</td>\n",
       "      <td>NaN</td>\n",
       "      <td>Jan-16</td>\n",
       "      <td>0.0</td>\n",
       "      <td>NaN</td>\n",
       "      <td>1</td>\n",
       "      <td>INDIVIDUAL</td>\n",
       "      <td>NaN</td>\n",
       "      <td>NaN</td>\n",
       "      <td>NaN</td>\n",
       "      <td>0.0</td>\n",
       "      <td>NaN</td>\n",
       "      <td>NaN</td>\n",
       "      <td>NaN</td>\n",
       "      <td>NaN</td>\n",
       "      <td>NaN</td>\n",
       "      <td>NaN</td>\n",
       "      <td>NaN</td>\n",
       "      <td>NaN</td>\n",
       "      <td>NaN</td>\n",
       "      <td>NaN</td>\n",
       "      <td>NaN</td>\n",
       "      <td>NaN</td>\n",
       "      <td>NaN</td>\n",
       "      <td>NaN</td>\n",
       "      <td>NaN</td>\n",
       "      <td>NaN</td>\n",
       "      <td>NaN</td>\n",
       "    </tr>\n",
       "    <tr>\n",
       "      <th>3</th>\n",
       "      <td>3</td>\n",
       "      <td>1076863</td>\n",
       "      <td>1277178</td>\n",
       "      <td>10000</td>\n",
       "      <td>10000</td>\n",
       "      <td>10000.0</td>\n",
       "      <td>36 months</td>\n",
       "      <td>13.49</td>\n",
       "      <td>339.31</td>\n",
       "      <td>C</td>\n",
       "      <td>C1</td>\n",
       "      <td>AIR RESOURCES BOARD</td>\n",
       "      <td>10+ years</td>\n",
       "      <td>RENT</td>\n",
       "      <td>49200.0</td>\n",
       "      <td>Source Verified</td>\n",
       "      <td>Dec-11</td>\n",
       "      <td>Fully Paid</td>\n",
       "      <td>n</td>\n",
       "      <td>https://www.lendingclub.com/browse/loanDetail....</td>\n",
       "      <td>Borrower added on 12/21/11 &gt; to pay for prop...</td>\n",
       "      <td>other</td>\n",
       "      <td>personel</td>\n",
       "      <td>917xx</td>\n",
       "      <td>CA</td>\n",
       "      <td>20.00</td>\n",
       "      <td>0.0</td>\n",
       "      <td>Feb-96</td>\n",
       "      <td>1.0</td>\n",
       "      <td>35.0</td>\n",
       "      <td>NaN</td>\n",
       "      <td>10.0</td>\n",
       "      <td>0.0</td>\n",
       "      <td>5598</td>\n",
       "      <td>21.0</td>\n",
       "      <td>37.0</td>\n",
       "      <td>f</td>\n",
       "      <td>0.0</td>\n",
       "      <td>0.0</td>\n",
       "      <td>12226.302210</td>\n",
       "      <td>12226.30</td>\n",
       "      <td>10000.00</td>\n",
       "      <td>2209.33</td>\n",
       "      <td>16.97</td>\n",
       "      <td>0.00</td>\n",
       "      <td>0.00</td>\n",
       "      <td>Jan-15</td>\n",
       "      <td>357.48</td>\n",
       "      <td>NaN</td>\n",
       "      <td>Jan-15</td>\n",
       "      <td>0.0</td>\n",
       "      <td>NaN</td>\n",
       "      <td>1</td>\n",
       "      <td>INDIVIDUAL</td>\n",
       "      <td>NaN</td>\n",
       "      <td>NaN</td>\n",
       "      <td>NaN</td>\n",
       "      <td>0.0</td>\n",
       "      <td>NaN</td>\n",
       "      <td>NaN</td>\n",
       "      <td>NaN</td>\n",
       "      <td>NaN</td>\n",
       "      <td>NaN</td>\n",
       "      <td>NaN</td>\n",
       "      <td>NaN</td>\n",
       "      <td>NaN</td>\n",
       "      <td>NaN</td>\n",
       "      <td>NaN</td>\n",
       "      <td>NaN</td>\n",
       "      <td>NaN</td>\n",
       "      <td>NaN</td>\n",
       "      <td>NaN</td>\n",
       "      <td>NaN</td>\n",
       "      <td>NaN</td>\n",
       "      <td>NaN</td>\n",
       "    </tr>\n",
       "    <tr>\n",
       "      <th>4</th>\n",
       "      <td>4</td>\n",
       "      <td>1075358</td>\n",
       "      <td>1311748</td>\n",
       "      <td>3000</td>\n",
       "      <td>3000</td>\n",
       "      <td>3000.0</td>\n",
       "      <td>60 months</td>\n",
       "      <td>12.69</td>\n",
       "      <td>67.79</td>\n",
       "      <td>B</td>\n",
       "      <td>B5</td>\n",
       "      <td>University Medical Group</td>\n",
       "      <td>1 year</td>\n",
       "      <td>RENT</td>\n",
       "      <td>80000.0</td>\n",
       "      <td>Source Verified</td>\n",
       "      <td>Dec-11</td>\n",
       "      <td>Current</td>\n",
       "      <td>n</td>\n",
       "      <td>https://www.lendingclub.com/browse/loanDetail....</td>\n",
       "      <td>Borrower added on 12/21/11 &gt; I plan on combi...</td>\n",
       "      <td>other</td>\n",
       "      <td>Personal</td>\n",
       "      <td>972xx</td>\n",
       "      <td>OR</td>\n",
       "      <td>17.94</td>\n",
       "      <td>0.0</td>\n",
       "      <td>Jan-96</td>\n",
       "      <td>0.0</td>\n",
       "      <td>38.0</td>\n",
       "      <td>NaN</td>\n",
       "      <td>15.0</td>\n",
       "      <td>0.0</td>\n",
       "      <td>27783</td>\n",
       "      <td>53.9</td>\n",
       "      <td>38.0</td>\n",
       "      <td>f</td>\n",
       "      <td>766.9</td>\n",
       "      <td>766.9</td>\n",
       "      <td>3242.170000</td>\n",
       "      <td>3242.17</td>\n",
       "      <td>2233.10</td>\n",
       "      <td>1009.07</td>\n",
       "      <td>0.00</td>\n",
       "      <td>0.00</td>\n",
       "      <td>0.00</td>\n",
       "      <td>Jan-16</td>\n",
       "      <td>67.79</td>\n",
       "      <td>Feb-16</td>\n",
       "      <td>Jan-16</td>\n",
       "      <td>0.0</td>\n",
       "      <td>NaN</td>\n",
       "      <td>1</td>\n",
       "      <td>INDIVIDUAL</td>\n",
       "      <td>NaN</td>\n",
       "      <td>NaN</td>\n",
       "      <td>NaN</td>\n",
       "      <td>0.0</td>\n",
       "      <td>NaN</td>\n",
       "      <td>NaN</td>\n",
       "      <td>NaN</td>\n",
       "      <td>NaN</td>\n",
       "      <td>NaN</td>\n",
       "      <td>NaN</td>\n",
       "      <td>NaN</td>\n",
       "      <td>NaN</td>\n",
       "      <td>NaN</td>\n",
       "      <td>NaN</td>\n",
       "      <td>NaN</td>\n",
       "      <td>NaN</td>\n",
       "      <td>NaN</td>\n",
       "      <td>NaN</td>\n",
       "      <td>NaN</td>\n",
       "      <td>NaN</td>\n",
       "      <td>NaN</td>\n",
       "    </tr>\n",
       "  </tbody>\n",
       "</table>\n",
       "</div>"
      ],
      "text/plain": [
       "   Unnamed: 0       id  member_id  loan_amnt  funded_amnt  funded_amnt_inv  \\\n",
       "0           0  1077501    1296599       5000         5000           4975.0   \n",
       "1           1  1077430    1314167       2500         2500           2500.0   \n",
       "2           2  1077175    1313524       2400         2400           2400.0   \n",
       "3           3  1076863    1277178      10000        10000          10000.0   \n",
       "4           4  1075358    1311748       3000         3000           3000.0   \n",
       "\n",
       "         term  int_rate  installment grade sub_grade  \\\n",
       "0   36 months     10.65       162.87     B        B2   \n",
       "1   60 months     15.27        59.83     C        C4   \n",
       "2   36 months     15.96        84.33     C        C5   \n",
       "3   36 months     13.49       339.31     C        C1   \n",
       "4   60 months     12.69        67.79     B        B5   \n",
       "\n",
       "                  emp_title emp_length home_ownership  annual_inc  \\\n",
       "0                       NaN  10+ years           RENT     24000.0   \n",
       "1                     Ryder   < 1 year           RENT     30000.0   \n",
       "2                       NaN  10+ years           RENT     12252.0   \n",
       "3       AIR RESOURCES BOARD  10+ years           RENT     49200.0   \n",
       "4  University Medical Group     1 year           RENT     80000.0   \n",
       "\n",
       "  verification_status issue_d  loan_status pymnt_plan  \\\n",
       "0            Verified  Dec-11   Fully Paid          n   \n",
       "1     Source Verified  Dec-11  Charged Off          n   \n",
       "2        Not Verified  Dec-11   Fully Paid          n   \n",
       "3     Source Verified  Dec-11   Fully Paid          n   \n",
       "4     Source Verified  Dec-11      Current          n   \n",
       "\n",
       "                                                 url  \\\n",
       "0  https://www.lendingclub.com/browse/loanDetail....   \n",
       "1  https://www.lendingclub.com/browse/loanDetail....   \n",
       "2  https://www.lendingclub.com/browse/loanDetail....   \n",
       "3  https://www.lendingclub.com/browse/loanDetail....   \n",
       "4  https://www.lendingclub.com/browse/loanDetail....   \n",
       "\n",
       "                                                desc         purpose  \\\n",
       "0    Borrower added on 12/22/11 > I need to upgra...     credit_card   \n",
       "1    Borrower added on 12/22/11 > I plan to use t...             car   \n",
       "2                                                NaN  small_business   \n",
       "3    Borrower added on 12/21/11 > to pay for prop...           other   \n",
       "4    Borrower added on 12/21/11 > I plan on combi...           other   \n",
       "\n",
       "                  title zip_code addr_state    dti  delinq_2yrs  \\\n",
       "0              Computer    860xx         AZ  27.65          0.0   \n",
       "1                  bike    309xx         GA   1.00          0.0   \n",
       "2  real estate business    606xx         IL   8.72          0.0   \n",
       "3              personel    917xx         CA  20.00          0.0   \n",
       "4              Personal    972xx         OR  17.94          0.0   \n",
       "\n",
       "  earliest_cr_line  inq_last_6mths  mths_since_last_delinq  \\\n",
       "0           Jan-85             1.0                     NaN   \n",
       "1           Apr-99             5.0                     NaN   \n",
       "2           Nov-01             2.0                     NaN   \n",
       "3           Feb-96             1.0                    35.0   \n",
       "4           Jan-96             0.0                    38.0   \n",
       "\n",
       "   mths_since_last_record  open_acc  pub_rec  revol_bal  revol_util  \\\n",
       "0                     NaN       3.0      0.0      13648        83.7   \n",
       "1                     NaN       3.0      0.0       1687         9.4   \n",
       "2                     NaN       2.0      0.0       2956        98.5   \n",
       "3                     NaN      10.0      0.0       5598        21.0   \n",
       "4                     NaN      15.0      0.0      27783        53.9   \n",
       "\n",
       "   total_acc initial_list_status  out_prncp  out_prncp_inv   total_pymnt  \\\n",
       "0        9.0                   f        0.0            0.0   5861.071414   \n",
       "1        4.0                   f        0.0            0.0   1008.710000   \n",
       "2       10.0                   f        0.0            0.0   3003.653644   \n",
       "3       37.0                   f        0.0            0.0  12226.302210   \n",
       "4       38.0                   f      766.9          766.9   3242.170000   \n",
       "\n",
       "   total_pymnt_inv  total_rec_prncp  total_rec_int  total_rec_late_fee  \\\n",
       "0          5831.78          5000.00         861.07                0.00   \n",
       "1          1008.71           456.46         435.17                0.00   \n",
       "2          3003.65          2400.00         603.65                0.00   \n",
       "3         12226.30         10000.00        2209.33               16.97   \n",
       "4          3242.17          2233.10        1009.07                0.00   \n",
       "\n",
       "   recoveries  collection_recovery_fee last_pymnt_d  last_pymnt_amnt  \\\n",
       "0        0.00                     0.00       Jan-15           171.62   \n",
       "1      117.08                     1.11       Apr-13           119.66   \n",
       "2        0.00                     0.00       Jun-14           649.91   \n",
       "3        0.00                     0.00       Jan-15           357.48   \n",
       "4        0.00                     0.00       Jan-16            67.79   \n",
       "\n",
       "  next_pymnt_d last_credit_pull_d  collections_12_mths_ex_med  \\\n",
       "0          NaN             Jan-16                         0.0   \n",
       "1          NaN             Sep-13                         0.0   \n",
       "2          NaN             Jan-16                         0.0   \n",
       "3          NaN             Jan-15                         0.0   \n",
       "4       Feb-16             Jan-16                         0.0   \n",
       "\n",
       "   mths_since_last_major_derog  policy_code application_type  \\\n",
       "0                          NaN            1       INDIVIDUAL   \n",
       "1                          NaN            1       INDIVIDUAL   \n",
       "2                          NaN            1       INDIVIDUAL   \n",
       "3                          NaN            1       INDIVIDUAL   \n",
       "4                          NaN            1       INDIVIDUAL   \n",
       "\n",
       "   annual_inc_joint  dti_joint  verification_status_joint  acc_now_delinq  \\\n",
       "0               NaN        NaN                        NaN             0.0   \n",
       "1               NaN        NaN                        NaN             0.0   \n",
       "2               NaN        NaN                        NaN             0.0   \n",
       "3               NaN        NaN                        NaN             0.0   \n",
       "4               NaN        NaN                        NaN             0.0   \n",
       "\n",
       "   tot_coll_amt  tot_cur_bal  open_acc_6m  open_il_6m  open_il_12m  \\\n",
       "0           NaN          NaN          NaN         NaN          NaN   \n",
       "1           NaN          NaN          NaN         NaN          NaN   \n",
       "2           NaN          NaN          NaN         NaN          NaN   \n",
       "3           NaN          NaN          NaN         NaN          NaN   \n",
       "4           NaN          NaN          NaN         NaN          NaN   \n",
       "\n",
       "   open_il_24m  mths_since_rcnt_il  total_bal_il  il_util  open_rv_12m  \\\n",
       "0          NaN                 NaN           NaN      NaN          NaN   \n",
       "1          NaN                 NaN           NaN      NaN          NaN   \n",
       "2          NaN                 NaN           NaN      NaN          NaN   \n",
       "3          NaN                 NaN           NaN      NaN          NaN   \n",
       "4          NaN                 NaN           NaN      NaN          NaN   \n",
       "\n",
       "   open_rv_24m  max_bal_bc  all_util  total_rev_hi_lim  inq_fi  total_cu_tl  \\\n",
       "0          NaN         NaN       NaN               NaN     NaN          NaN   \n",
       "1          NaN         NaN       NaN               NaN     NaN          NaN   \n",
       "2          NaN         NaN       NaN               NaN     NaN          NaN   \n",
       "3          NaN         NaN       NaN               NaN     NaN          NaN   \n",
       "4          NaN         NaN       NaN               NaN     NaN          NaN   \n",
       "\n",
       "   inq_last_12m  \n",
       "0           NaN  \n",
       "1           NaN  \n",
       "2           NaN  \n",
       "3           NaN  \n",
       "4           NaN  "
      ]
     },
     "execution_count": 131,
     "metadata": {},
     "output_type": "execute_result"
    }
   ],
   "source": [
    "df.head()"
   ]
  },
  {
   "cell_type": "markdown",
   "metadata": {},
   "source": [
    "### Menentukan yang ingin di drop"
   ]
  },
  {
   "cell_type": "code",
   "execution_count": 132,
   "metadata": {},
   "outputs": [
    {
     "data": {
      "text/plain": [
       "Index(['Unnamed: 0', 'id', 'member_id', 'loan_amnt', 'funded_amnt',\n",
       "       'funded_amnt_inv', 'term', 'int_rate', 'installment', 'grade',\n",
       "       'sub_grade', 'emp_title', 'emp_length', 'home_ownership', 'annual_inc',\n",
       "       'verification_status', 'issue_d', 'loan_status', 'pymnt_plan', 'url',\n",
       "       'desc', 'purpose', 'title', 'zip_code', 'addr_state', 'dti',\n",
       "       'delinq_2yrs', 'earliest_cr_line', 'inq_last_6mths',\n",
       "       'mths_since_last_delinq', 'mths_since_last_record', 'open_acc',\n",
       "       'pub_rec', 'revol_bal', 'revol_util', 'total_acc',\n",
       "       'initial_list_status', 'out_prncp', 'out_prncp_inv', 'total_pymnt',\n",
       "       'total_pymnt_inv', 'total_rec_prncp', 'total_rec_int',\n",
       "       'total_rec_late_fee', 'recoveries', 'collection_recovery_fee',\n",
       "       'last_pymnt_d', 'last_pymnt_amnt', 'next_pymnt_d', 'last_credit_pull_d',\n",
       "       'collections_12_mths_ex_med', 'mths_since_last_major_derog',\n",
       "       'policy_code', 'application_type', 'annual_inc_joint', 'dti_joint',\n",
       "       'verification_status_joint', 'acc_now_delinq', 'tot_coll_amt',\n",
       "       'tot_cur_bal', 'open_acc_6m', 'open_il_6m', 'open_il_12m',\n",
       "       'open_il_24m', 'mths_since_rcnt_il', 'total_bal_il', 'il_util',\n",
       "       'open_rv_12m', 'open_rv_24m', 'max_bal_bc', 'all_util',\n",
       "       'total_rev_hi_lim', 'inq_fi', 'total_cu_tl', 'inq_last_12m'],\n",
       "      dtype='object')"
      ]
     },
     "execution_count": 132,
     "metadata": {},
     "output_type": "execute_result"
    }
   ],
   "source": [
    "# mengetahui apasaja column yang ada\n",
    "df.columns"
   ]
  },
  {
   "cell_type": "code",
   "execution_count": 133,
   "metadata": {},
   "outputs": [
    {
     "name": "stdout",
     "output_type": "stream",
     "text": [
      "'policy_code',\n",
      "'application_type',\n",
      "'annual_inc_joint',\n",
      "'dti_joint',\n",
      "'verification_status_joint',\n",
      "'open_acc_6m',\n",
      "'open_il_6m',\n",
      "'open_il_12m',\n",
      "'open_il_24m',\n",
      "'mths_since_rcnt_il',\n",
      "'total_bal_il',\n",
      "'il_util',\n",
      "'open_rv_12m',\n",
      "'open_rv_24m',\n",
      "'max_bal_bc',\n",
      "'all_util',\n",
      "'inq_fi',\n",
      "'total_cu_tl',\n",
      "'inq_last_12m',\n"
     ]
    }
   ],
   "source": [
    "# menegecek adakah column yang hanya punya satu record unique\n",
    "for column in df.columns:\n",
    "  if len(df[column].unique()) == 1:\n",
    "    print(\"\\'\" + column + \"\\',\")"
   ]
  },
  {
   "cell_type": "code",
   "execution_count": 134,
   "metadata": {},
   "outputs": [
    {
     "name": "stdout",
     "output_type": "stream",
     "text": [
      "'Unnamed: 0',\n",
      "'id',\n",
      "'member_id',\n",
      "'url',\n"
     ]
    }
   ],
   "source": [
    "# menegecek adakah column yang punya unique setiap row\n",
    "for column in df.columns:\n",
    "  if len(df[column].unique()) == df.shape[0]:\n",
    "    print(\"\\'\" + column + \"\\',\")"
   ]
  },
  {
   "cell_type": "code",
   "execution_count": 135,
   "metadata": {},
   "outputs": [
    {
     "name": "stdout",
     "output_type": "stream",
     "text": [
      "'mths_since_last_record',\n",
      "'annual_inc_joint',\n",
      "'dti_joint',\n",
      "'verification_status_joint',\n",
      "'open_acc_6m',\n",
      "'open_il_6m',\n",
      "'open_il_12m',\n",
      "'open_il_24m',\n",
      "'mths_since_rcnt_il',\n",
      "'total_bal_il',\n",
      "'il_util',\n",
      "'open_rv_12m',\n",
      "'open_rv_24m',\n",
      "'max_bal_bc',\n",
      "'all_util',\n",
      "'inq_fi',\n",
      "'total_cu_tl',\n",
      "'inq_last_12m',\n"
     ]
    }
   ],
   "source": [
    "# Mengecek column apa saja yang memiliki jumlah null nya adalah 80% dari jumlah seluruh row\n",
    "for column in df.columns:\n",
    "  if df[column].isna().sum() / len(df) > 0.8:\n",
    "    print(\"\\'\" + column + \"\\',\")"
   ]
  },
  {
   "cell_type": "code",
   "execution_count": 136,
   "metadata": {},
   "outputs": [],
   "source": [
    "dropColumn = [\n",
    "    # unique\n",
    "    'id',\n",
    "    'Unnamed: 0',\n",
    "    \n",
    "    \n",
    "    # free text\n",
    "    'url',\n",
    "    \n",
    "    # unique column\n",
    "    'Unnamed: 0',\n",
    "    'id',\n",
    "    'member_id',\n",
    "    'zip_code',\n",
    "    \n",
    "    # hanya satu record unique\n",
    "    'policy_code',\n",
    "    'application_type',\n",
    "    'annual_inc_joint',\n",
    "    'dti_joint',\n",
    "    'verification_status_joint',\n",
    "    'open_acc_6m',\n",
    "    'open_il_6m',\n",
    "    'open_il_12m',\n",
    "    'open_il_24m',\n",
    "    'mths_since_rcnt_il',\n",
    "    'total_bal_il',\n",
    "    'il_util',\n",
    "    'open_rv_12m',\n",
    "    'open_rv_24m',\n",
    "    'max_bal_bc',\n",
    "    'all_util',\n",
    "    'inq_fi',\n",
    "    'total_cu_tl',\n",
    "    'inq_last_12m',\n",
    "    \n",
    "    # column apa saja yang memiliki jumlah null nya adalah 80% dari jumlah seluruh row\n",
    "    'annual_inc_joint',\n",
    "    'dti_joint',\n",
    "    'verification_status_joint',\n",
    "    'open_acc_6m',\n",
    "    'open_il_6m',\n",
    "    'open_il_12m',\n",
    "    'open_il_24m',\n",
    "    'mths_since_rcnt_il',\n",
    "    'total_bal_il',\n",
    "    'il_util',\n",
    "    'open_rv_12m',\n",
    "    'open_rv_24m',\n",
    "    'max_bal_bc',\n",
    "    'all_util',\n",
    "    'inq_fi',\n",
    "    'total_cu_tl',\n",
    "    'inq_last_12m',\n",
    "    'mths_since_last_record',\n",
    "]"
   ]
  },
  {
   "cell_type": "code",
   "execution_count": 137,
   "metadata": {},
   "outputs": [],
   "source": [
    "df = df.drop(dropColumn, axis = 1).copy()"
   ]
  },
  {
   "cell_type": "code",
   "execution_count": 138,
   "metadata": {},
   "outputs": [
    {
     "data": {
      "text/plain": [
       "(466285, 50)"
      ]
     },
     "execution_count": 138,
     "metadata": {},
     "output_type": "execute_result"
    }
   ],
   "source": [
    "df.shape"
   ]
  },
  {
   "cell_type": "code",
   "execution_count": 139,
   "metadata": {},
   "outputs": [
    {
     "name": "stdout",
     "output_type": "stream",
     "text": [
      "<class 'pandas.core.frame.DataFrame'>\n",
      "RangeIndex: 466285 entries, 0 to 466284\n",
      "Data columns (total 50 columns):\n",
      " #   Column                       Non-Null Count   Dtype  \n",
      "---  ------                       --------------   -----  \n",
      " 0   loan_amnt                    466285 non-null  int64  \n",
      " 1   funded_amnt                  466285 non-null  int64  \n",
      " 2   funded_amnt_inv              466285 non-null  float64\n",
      " 3   term                         466285 non-null  object \n",
      " 4   int_rate                     466285 non-null  float64\n",
      " 5   installment                  466285 non-null  float64\n",
      " 6   grade                        466285 non-null  object \n",
      " 7   sub_grade                    466285 non-null  object \n",
      " 8   emp_title                    438697 non-null  object \n",
      " 9   emp_length                   445277 non-null  object \n",
      " 10  home_ownership               466285 non-null  object \n",
      " 11  annual_inc                   466281 non-null  float64\n",
      " 12  verification_status          466285 non-null  object \n",
      " 13  issue_d                      466285 non-null  object \n",
      " 14  loan_status                  466285 non-null  object \n",
      " 15  pymnt_plan                   466285 non-null  object \n",
      " 16  desc                         125983 non-null  object \n",
      " 17  purpose                      466285 non-null  object \n",
      " 18  title                        466265 non-null  object \n",
      " 19  addr_state                   466285 non-null  object \n",
      " 20  dti                          466285 non-null  float64\n",
      " 21  delinq_2yrs                  466256 non-null  float64\n",
      " 22  earliest_cr_line             466256 non-null  object \n",
      " 23  inq_last_6mths               466256 non-null  float64\n",
      " 24  mths_since_last_delinq       215934 non-null  float64\n",
      " 25  open_acc                     466256 non-null  float64\n",
      " 26  pub_rec                      466256 non-null  float64\n",
      " 27  revol_bal                    466285 non-null  int64  \n",
      " 28  revol_util                   465945 non-null  float64\n",
      " 29  total_acc                    466256 non-null  float64\n",
      " 30  initial_list_status          466285 non-null  object \n",
      " 31  out_prncp                    466285 non-null  float64\n",
      " 32  out_prncp_inv                466285 non-null  float64\n",
      " 33  total_pymnt                  466285 non-null  float64\n",
      " 34  total_pymnt_inv              466285 non-null  float64\n",
      " 35  total_rec_prncp              466285 non-null  float64\n",
      " 36  total_rec_int                466285 non-null  float64\n",
      " 37  total_rec_late_fee           466285 non-null  float64\n",
      " 38  recoveries                   466285 non-null  float64\n",
      " 39  collection_recovery_fee      466285 non-null  float64\n",
      " 40  last_pymnt_d                 465909 non-null  object \n",
      " 41  last_pymnt_amnt              466285 non-null  float64\n",
      " 42  next_pymnt_d                 239071 non-null  object \n",
      " 43  last_credit_pull_d           466243 non-null  object \n",
      " 44  collections_12_mths_ex_med   466140 non-null  float64\n",
      " 45  mths_since_last_major_derog  98974 non-null   float64\n",
      " 46  acc_now_delinq               466256 non-null  float64\n",
      " 47  tot_coll_amt                 396009 non-null  float64\n",
      " 48  tot_cur_bal                  396009 non-null  float64\n",
      " 49  total_rev_hi_lim             396009 non-null  float64\n",
      "dtypes: float64(28), int64(3), object(19)\n",
      "memory usage: 177.9+ MB\n"
     ]
    }
   ],
   "source": [
    "df.info()"
   ]
  },
  {
   "cell_type": "code",
   "execution_count": 140,
   "metadata": {},
   "outputs": [
    {
     "data": {
      "text/html": [
       "<div>\n",
       "<style scoped>\n",
       "    .dataframe tbody tr th:only-of-type {\n",
       "        vertical-align: middle;\n",
       "    }\n",
       "\n",
       "    .dataframe tbody tr th {\n",
       "        vertical-align: top;\n",
       "    }\n",
       "\n",
       "    .dataframe thead th {\n",
       "        text-align: right;\n",
       "    }\n",
       "</style>\n",
       "<table border=\"1\" class=\"dataframe\">\n",
       "  <thead>\n",
       "    <tr style=\"text-align: right;\">\n",
       "      <th></th>\n",
       "      <th>loan_amnt</th>\n",
       "      <th>funded_amnt</th>\n",
       "      <th>funded_amnt_inv</th>\n",
       "      <th>int_rate</th>\n",
       "      <th>installment</th>\n",
       "      <th>annual_inc</th>\n",
       "      <th>dti</th>\n",
       "      <th>delinq_2yrs</th>\n",
       "      <th>inq_last_6mths</th>\n",
       "      <th>mths_since_last_delinq</th>\n",
       "      <th>open_acc</th>\n",
       "      <th>pub_rec</th>\n",
       "      <th>revol_bal</th>\n",
       "      <th>revol_util</th>\n",
       "      <th>total_acc</th>\n",
       "      <th>out_prncp</th>\n",
       "      <th>out_prncp_inv</th>\n",
       "      <th>total_pymnt</th>\n",
       "      <th>total_pymnt_inv</th>\n",
       "      <th>total_rec_prncp</th>\n",
       "      <th>total_rec_int</th>\n",
       "      <th>total_rec_late_fee</th>\n",
       "      <th>recoveries</th>\n",
       "      <th>collection_recovery_fee</th>\n",
       "      <th>last_pymnt_amnt</th>\n",
       "      <th>collections_12_mths_ex_med</th>\n",
       "      <th>mths_since_last_major_derog</th>\n",
       "      <th>acc_now_delinq</th>\n",
       "      <th>tot_coll_amt</th>\n",
       "      <th>tot_cur_bal</th>\n",
       "      <th>total_rev_hi_lim</th>\n",
       "    </tr>\n",
       "  </thead>\n",
       "  <tbody>\n",
       "    <tr>\n",
       "      <th>count</th>\n",
       "      <td>466285.000000</td>\n",
       "      <td>466285.000000</td>\n",
       "      <td>466285.000000</td>\n",
       "      <td>466285.000000</td>\n",
       "      <td>466285.000000</td>\n",
       "      <td>4.662810e+05</td>\n",
       "      <td>466285.000000</td>\n",
       "      <td>466256.000000</td>\n",
       "      <td>466256.000000</td>\n",
       "      <td>215934.000000</td>\n",
       "      <td>466256.000000</td>\n",
       "      <td>466256.000000</td>\n",
       "      <td>4.662850e+05</td>\n",
       "      <td>465945.000000</td>\n",
       "      <td>466256.000000</td>\n",
       "      <td>466285.000000</td>\n",
       "      <td>466285.000000</td>\n",
       "      <td>466285.000000</td>\n",
       "      <td>466285.000000</td>\n",
       "      <td>466285.000000</td>\n",
       "      <td>466285.000000</td>\n",
       "      <td>466285.000000</td>\n",
       "      <td>466285.000000</td>\n",
       "      <td>466285.000000</td>\n",
       "      <td>466285.000000</td>\n",
       "      <td>466140.000000</td>\n",
       "      <td>98974.000000</td>\n",
       "      <td>466256.000000</td>\n",
       "      <td>3.960090e+05</td>\n",
       "      <td>3.960090e+05</td>\n",
       "      <td>3.960090e+05</td>\n",
       "    </tr>\n",
       "    <tr>\n",
       "      <th>mean</th>\n",
       "      <td>14317.277577</td>\n",
       "      <td>14291.801044</td>\n",
       "      <td>14222.329888</td>\n",
       "      <td>13.829236</td>\n",
       "      <td>432.061201</td>\n",
       "      <td>7.327738e+04</td>\n",
       "      <td>17.218758</td>\n",
       "      <td>0.284678</td>\n",
       "      <td>0.804745</td>\n",
       "      <td>34.104430</td>\n",
       "      <td>11.187069</td>\n",
       "      <td>0.160564</td>\n",
       "      <td>1.623020e+04</td>\n",
       "      <td>56.176947</td>\n",
       "      <td>25.064430</td>\n",
       "      <td>4410.062342</td>\n",
       "      <td>4408.452258</td>\n",
       "      <td>11540.686220</td>\n",
       "      <td>11469.892747</td>\n",
       "      <td>8866.014657</td>\n",
       "      <td>2588.677225</td>\n",
       "      <td>0.650129</td>\n",
       "      <td>85.344211</td>\n",
       "      <td>8.961534</td>\n",
       "      <td>3123.913796</td>\n",
       "      <td>0.009085</td>\n",
       "      <td>42.852547</td>\n",
       "      <td>0.004002</td>\n",
       "      <td>1.919135e+02</td>\n",
       "      <td>1.388017e+05</td>\n",
       "      <td>3.037909e+04</td>\n",
       "    </tr>\n",
       "    <tr>\n",
       "      <th>std</th>\n",
       "      <td>8286.509164</td>\n",
       "      <td>8274.371300</td>\n",
       "      <td>8297.637788</td>\n",
       "      <td>4.357587</td>\n",
       "      <td>243.485550</td>\n",
       "      <td>5.496357e+04</td>\n",
       "      <td>7.851121</td>\n",
       "      <td>0.797365</td>\n",
       "      <td>1.091598</td>\n",
       "      <td>21.778487</td>\n",
       "      <td>4.987526</td>\n",
       "      <td>0.510863</td>\n",
       "      <td>2.067625e+04</td>\n",
       "      <td>23.732628</td>\n",
       "      <td>11.600141</td>\n",
       "      <td>6355.078769</td>\n",
       "      <td>6353.198001</td>\n",
       "      <td>8265.627112</td>\n",
       "      <td>8254.157579</td>\n",
       "      <td>7031.687997</td>\n",
       "      <td>2483.809661</td>\n",
       "      <td>5.265730</td>\n",
       "      <td>552.216084</td>\n",
       "      <td>85.491437</td>\n",
       "      <td>5554.737393</td>\n",
       "      <td>0.108648</td>\n",
       "      <td>21.662591</td>\n",
       "      <td>0.068637</td>\n",
       "      <td>1.463021e+04</td>\n",
       "      <td>1.521147e+05</td>\n",
       "      <td>3.724713e+04</td>\n",
       "    </tr>\n",
       "    <tr>\n",
       "      <th>min</th>\n",
       "      <td>500.000000</td>\n",
       "      <td>500.000000</td>\n",
       "      <td>0.000000</td>\n",
       "      <td>5.420000</td>\n",
       "      <td>15.670000</td>\n",
       "      <td>1.896000e+03</td>\n",
       "      <td>0.000000</td>\n",
       "      <td>0.000000</td>\n",
       "      <td>0.000000</td>\n",
       "      <td>0.000000</td>\n",
       "      <td>0.000000</td>\n",
       "      <td>0.000000</td>\n",
       "      <td>0.000000e+00</td>\n",
       "      <td>0.000000</td>\n",
       "      <td>1.000000</td>\n",
       "      <td>0.000000</td>\n",
       "      <td>0.000000</td>\n",
       "      <td>0.000000</td>\n",
       "      <td>0.000000</td>\n",
       "      <td>0.000000</td>\n",
       "      <td>0.000000</td>\n",
       "      <td>0.000000</td>\n",
       "      <td>0.000000</td>\n",
       "      <td>0.000000</td>\n",
       "      <td>0.000000</td>\n",
       "      <td>0.000000</td>\n",
       "      <td>0.000000</td>\n",
       "      <td>0.000000</td>\n",
       "      <td>0.000000e+00</td>\n",
       "      <td>0.000000e+00</td>\n",
       "      <td>0.000000e+00</td>\n",
       "    </tr>\n",
       "    <tr>\n",
       "      <th>25%</th>\n",
       "      <td>8000.000000</td>\n",
       "      <td>8000.000000</td>\n",
       "      <td>8000.000000</td>\n",
       "      <td>10.990000</td>\n",
       "      <td>256.690000</td>\n",
       "      <td>4.500000e+04</td>\n",
       "      <td>11.360000</td>\n",
       "      <td>0.000000</td>\n",
       "      <td>0.000000</td>\n",
       "      <td>16.000000</td>\n",
       "      <td>8.000000</td>\n",
       "      <td>0.000000</td>\n",
       "      <td>6.413000e+03</td>\n",
       "      <td>39.200000</td>\n",
       "      <td>17.000000</td>\n",
       "      <td>0.000000</td>\n",
       "      <td>0.000000</td>\n",
       "      <td>5552.125349</td>\n",
       "      <td>5499.250000</td>\n",
       "      <td>3708.560000</td>\n",
       "      <td>957.280000</td>\n",
       "      <td>0.000000</td>\n",
       "      <td>0.000000</td>\n",
       "      <td>0.000000</td>\n",
       "      <td>312.620000</td>\n",
       "      <td>0.000000</td>\n",
       "      <td>26.000000</td>\n",
       "      <td>0.000000</td>\n",
       "      <td>0.000000e+00</td>\n",
       "      <td>2.861800e+04</td>\n",
       "      <td>1.350000e+04</td>\n",
       "    </tr>\n",
       "    <tr>\n",
       "      <th>50%</th>\n",
       "      <td>12000.000000</td>\n",
       "      <td>12000.000000</td>\n",
       "      <td>12000.000000</td>\n",
       "      <td>13.660000</td>\n",
       "      <td>379.890000</td>\n",
       "      <td>6.300000e+04</td>\n",
       "      <td>16.870000</td>\n",
       "      <td>0.000000</td>\n",
       "      <td>0.000000</td>\n",
       "      <td>31.000000</td>\n",
       "      <td>10.000000</td>\n",
       "      <td>0.000000</td>\n",
       "      <td>1.176400e+04</td>\n",
       "      <td>57.600000</td>\n",
       "      <td>23.000000</td>\n",
       "      <td>441.470000</td>\n",
       "      <td>441.380000</td>\n",
       "      <td>9419.250943</td>\n",
       "      <td>9355.430000</td>\n",
       "      <td>6817.760000</td>\n",
       "      <td>1818.880000</td>\n",
       "      <td>0.000000</td>\n",
       "      <td>0.000000</td>\n",
       "      <td>0.000000</td>\n",
       "      <td>545.960000</td>\n",
       "      <td>0.000000</td>\n",
       "      <td>42.000000</td>\n",
       "      <td>0.000000</td>\n",
       "      <td>0.000000e+00</td>\n",
       "      <td>8.153900e+04</td>\n",
       "      <td>2.280000e+04</td>\n",
       "    </tr>\n",
       "    <tr>\n",
       "      <th>75%</th>\n",
       "      <td>20000.000000</td>\n",
       "      <td>20000.000000</td>\n",
       "      <td>19950.000000</td>\n",
       "      <td>16.490000</td>\n",
       "      <td>566.580000</td>\n",
       "      <td>8.896000e+04</td>\n",
       "      <td>22.780000</td>\n",
       "      <td>0.000000</td>\n",
       "      <td>1.000000</td>\n",
       "      <td>49.000000</td>\n",
       "      <td>14.000000</td>\n",
       "      <td>0.000000</td>\n",
       "      <td>2.033300e+04</td>\n",
       "      <td>74.700000</td>\n",
       "      <td>32.000000</td>\n",
       "      <td>7341.650000</td>\n",
       "      <td>7338.390000</td>\n",
       "      <td>15308.158460</td>\n",
       "      <td>15231.310000</td>\n",
       "      <td>12000.000000</td>\n",
       "      <td>3304.530000</td>\n",
       "      <td>0.000000</td>\n",
       "      <td>0.000000</td>\n",
       "      <td>0.000000</td>\n",
       "      <td>3187.510000</td>\n",
       "      <td>0.000000</td>\n",
       "      <td>59.000000</td>\n",
       "      <td>0.000000</td>\n",
       "      <td>0.000000e+00</td>\n",
       "      <td>2.089530e+05</td>\n",
       "      <td>3.790000e+04</td>\n",
       "    </tr>\n",
       "    <tr>\n",
       "      <th>max</th>\n",
       "      <td>35000.000000</td>\n",
       "      <td>35000.000000</td>\n",
       "      <td>35000.000000</td>\n",
       "      <td>26.060000</td>\n",
       "      <td>1409.990000</td>\n",
       "      <td>7.500000e+06</td>\n",
       "      <td>39.990000</td>\n",
       "      <td>29.000000</td>\n",
       "      <td>33.000000</td>\n",
       "      <td>188.000000</td>\n",
       "      <td>84.000000</td>\n",
       "      <td>63.000000</td>\n",
       "      <td>2.568995e+06</td>\n",
       "      <td>892.300000</td>\n",
       "      <td>156.000000</td>\n",
       "      <td>32160.380000</td>\n",
       "      <td>32160.380000</td>\n",
       "      <td>57777.579870</td>\n",
       "      <td>57777.580000</td>\n",
       "      <td>35000.030000</td>\n",
       "      <td>24205.620000</td>\n",
       "      <td>358.680000</td>\n",
       "      <td>33520.270000</td>\n",
       "      <td>7002.190000</td>\n",
       "      <td>36234.440000</td>\n",
       "      <td>20.000000</td>\n",
       "      <td>188.000000</td>\n",
       "      <td>5.000000</td>\n",
       "      <td>9.152545e+06</td>\n",
       "      <td>8.000078e+06</td>\n",
       "      <td>9.999999e+06</td>\n",
       "    </tr>\n",
       "  </tbody>\n",
       "</table>\n",
       "</div>"
      ],
      "text/plain": [
       "           loan_amnt    funded_amnt  funded_amnt_inv       int_rate  \\\n",
       "count  466285.000000  466285.000000    466285.000000  466285.000000   \n",
       "mean    14317.277577   14291.801044     14222.329888      13.829236   \n",
       "std      8286.509164    8274.371300      8297.637788       4.357587   \n",
       "min       500.000000     500.000000         0.000000       5.420000   \n",
       "25%      8000.000000    8000.000000      8000.000000      10.990000   \n",
       "50%     12000.000000   12000.000000     12000.000000      13.660000   \n",
       "75%     20000.000000   20000.000000     19950.000000      16.490000   \n",
       "max     35000.000000   35000.000000     35000.000000      26.060000   \n",
       "\n",
       "         installment    annual_inc            dti    delinq_2yrs  \\\n",
       "count  466285.000000  4.662810e+05  466285.000000  466256.000000   \n",
       "mean      432.061201  7.327738e+04      17.218758       0.284678   \n",
       "std       243.485550  5.496357e+04       7.851121       0.797365   \n",
       "min        15.670000  1.896000e+03       0.000000       0.000000   \n",
       "25%       256.690000  4.500000e+04      11.360000       0.000000   \n",
       "50%       379.890000  6.300000e+04      16.870000       0.000000   \n",
       "75%       566.580000  8.896000e+04      22.780000       0.000000   \n",
       "max      1409.990000  7.500000e+06      39.990000      29.000000   \n",
       "\n",
       "       inq_last_6mths  mths_since_last_delinq       open_acc        pub_rec  \\\n",
       "count   466256.000000           215934.000000  466256.000000  466256.000000   \n",
       "mean         0.804745               34.104430      11.187069       0.160564   \n",
       "std          1.091598               21.778487       4.987526       0.510863   \n",
       "min          0.000000                0.000000       0.000000       0.000000   \n",
       "25%          0.000000               16.000000       8.000000       0.000000   \n",
       "50%          0.000000               31.000000      10.000000       0.000000   \n",
       "75%          1.000000               49.000000      14.000000       0.000000   \n",
       "max         33.000000              188.000000      84.000000      63.000000   \n",
       "\n",
       "          revol_bal     revol_util      total_acc      out_prncp  \\\n",
       "count  4.662850e+05  465945.000000  466256.000000  466285.000000   \n",
       "mean   1.623020e+04      56.176947      25.064430    4410.062342   \n",
       "std    2.067625e+04      23.732628      11.600141    6355.078769   \n",
       "min    0.000000e+00       0.000000       1.000000       0.000000   \n",
       "25%    6.413000e+03      39.200000      17.000000       0.000000   \n",
       "50%    1.176400e+04      57.600000      23.000000     441.470000   \n",
       "75%    2.033300e+04      74.700000      32.000000    7341.650000   \n",
       "max    2.568995e+06     892.300000     156.000000   32160.380000   \n",
       "\n",
       "       out_prncp_inv    total_pymnt  total_pymnt_inv  total_rec_prncp  \\\n",
       "count  466285.000000  466285.000000    466285.000000    466285.000000   \n",
       "mean     4408.452258   11540.686220     11469.892747      8866.014657   \n",
       "std      6353.198001    8265.627112      8254.157579      7031.687997   \n",
       "min         0.000000       0.000000         0.000000         0.000000   \n",
       "25%         0.000000    5552.125349      5499.250000      3708.560000   \n",
       "50%       441.380000    9419.250943      9355.430000      6817.760000   \n",
       "75%      7338.390000   15308.158460     15231.310000     12000.000000   \n",
       "max     32160.380000   57777.579870     57777.580000     35000.030000   \n",
       "\n",
       "       total_rec_int  total_rec_late_fee     recoveries  \\\n",
       "count  466285.000000       466285.000000  466285.000000   \n",
       "mean     2588.677225            0.650129      85.344211   \n",
       "std      2483.809661            5.265730     552.216084   \n",
       "min         0.000000            0.000000       0.000000   \n",
       "25%       957.280000            0.000000       0.000000   \n",
       "50%      1818.880000            0.000000       0.000000   \n",
       "75%      3304.530000            0.000000       0.000000   \n",
       "max     24205.620000          358.680000   33520.270000   \n",
       "\n",
       "       collection_recovery_fee  last_pymnt_amnt  collections_12_mths_ex_med  \\\n",
       "count            466285.000000    466285.000000               466140.000000   \n",
       "mean                  8.961534      3123.913796                    0.009085   \n",
       "std                  85.491437      5554.737393                    0.108648   \n",
       "min                   0.000000         0.000000                    0.000000   \n",
       "25%                   0.000000       312.620000                    0.000000   \n",
       "50%                   0.000000       545.960000                    0.000000   \n",
       "75%                   0.000000      3187.510000                    0.000000   \n",
       "max                7002.190000     36234.440000                   20.000000   \n",
       "\n",
       "       mths_since_last_major_derog  acc_now_delinq  tot_coll_amt  \\\n",
       "count                 98974.000000   466256.000000  3.960090e+05   \n",
       "mean                     42.852547        0.004002  1.919135e+02   \n",
       "std                      21.662591        0.068637  1.463021e+04   \n",
       "min                       0.000000        0.000000  0.000000e+00   \n",
       "25%                      26.000000        0.000000  0.000000e+00   \n",
       "50%                      42.000000        0.000000  0.000000e+00   \n",
       "75%                      59.000000        0.000000  0.000000e+00   \n",
       "max                     188.000000        5.000000  9.152545e+06   \n",
       "\n",
       "        tot_cur_bal  total_rev_hi_lim  \n",
       "count  3.960090e+05      3.960090e+05  \n",
       "mean   1.388017e+05      3.037909e+04  \n",
       "std    1.521147e+05      3.724713e+04  \n",
       "min    0.000000e+00      0.000000e+00  \n",
       "25%    2.861800e+04      1.350000e+04  \n",
       "50%    8.153900e+04      2.280000e+04  \n",
       "75%    2.089530e+05      3.790000e+04  \n",
       "max    8.000078e+06      9.999999e+06  "
      ]
     },
     "execution_count": 140,
     "metadata": {},
     "output_type": "execute_result"
    }
   ],
   "source": [
    "df.describe()"
   ]
  },
  {
   "cell_type": "markdown",
   "metadata": {},
   "source": [
    "## Menuntukan label target"
   ]
  },
  {
   "cell_type": "markdown",
   "metadata": {},
   "source": [
    "Column 'loan status' dipakai karena paling masuk akal untuk prediksi apakah seseorang akan mengembalikan pinjaman apa tidak"
   ]
  },
  {
   "cell_type": "code",
   "execution_count": 141,
   "metadata": {},
   "outputs": [],
   "source": [
    "df['loan_status'].replace({\n",
    "    'Fully Paid': 1,\n",
    "    'Charged Off': 0,\n",
    "    'Current': 1,\n",
    "    'Late (31-120 days)': 0,\n",
    "    'In Grace Period': 0,\n",
    "    'Late (16-30 days)': 0,\n",
    "    'Default': 0,\n",
    "    'Does not meet the credit policy. Status:Fully Paid' : 1,\n",
    "    'Does not meet the credit policy. Status:Charged Off' : 0,    \n",
    "}, inplace = True)"
   ]
  },
  {
   "cell_type": "code",
   "execution_count": 142,
   "metadata": {},
   "outputs": [
    {
     "data": {
      "text/plain": [
       "1    410953\n",
       "0     55332\n",
       "Name: loan_status, dtype: int64"
      ]
     },
     "execution_count": 142,
     "metadata": {},
     "output_type": "execute_result"
    }
   ],
   "source": [
    "df['loan_status'].value_counts()"
   ]
  },
  {
   "cell_type": "code",
   "execution_count": 143,
   "metadata": {},
   "outputs": [
    {
     "data": {
      "text/plain": [
       "loan_amnt                           0\n",
       "funded_amnt                         0\n",
       "funded_amnt_inv                     0\n",
       "term                                0\n",
       "int_rate                            0\n",
       "installment                         0\n",
       "grade                               0\n",
       "sub_grade                           0\n",
       "emp_title                       27588\n",
       "emp_length                      21008\n",
       "home_ownership                      0\n",
       "annual_inc                          4\n",
       "verification_status                 0\n",
       "issue_d                             0\n",
       "loan_status                         0\n",
       "pymnt_plan                          0\n",
       "desc                           340302\n",
       "purpose                             0\n",
       "title                              20\n",
       "addr_state                          0\n",
       "dti                                 0\n",
       "delinq_2yrs                        29\n",
       "earliest_cr_line                   29\n",
       "inq_last_6mths                     29\n",
       "mths_since_last_delinq         250351\n",
       "open_acc                           29\n",
       "pub_rec                            29\n",
       "revol_bal                           0\n",
       "revol_util                        340\n",
       "total_acc                          29\n",
       "initial_list_status                 0\n",
       "out_prncp                           0\n",
       "out_prncp_inv                       0\n",
       "total_pymnt                         0\n",
       "total_pymnt_inv                     0\n",
       "total_rec_prncp                     0\n",
       "total_rec_int                       0\n",
       "total_rec_late_fee                  0\n",
       "recoveries                          0\n",
       "collection_recovery_fee             0\n",
       "last_pymnt_d                      376\n",
       "last_pymnt_amnt                     0\n",
       "next_pymnt_d                   227214\n",
       "last_credit_pull_d                 42\n",
       "collections_12_mths_ex_med        145\n",
       "mths_since_last_major_derog    367311\n",
       "acc_now_delinq                     29\n",
       "tot_coll_amt                    70276\n",
       "tot_cur_bal                     70276\n",
       "total_rev_hi_lim                70276\n",
       "dtype: int64"
      ]
     },
     "execution_count": 143,
     "metadata": {},
     "output_type": "execute_result"
    }
   ],
   "source": [
    "df.isna().sum()"
   ]
  },
  {
   "cell_type": "code",
   "execution_count": 144,
   "metadata": {},
   "outputs": [
    {
     "data": {
      "text/plain": [
       "0"
      ]
     },
     "execution_count": 144,
     "metadata": {},
     "output_type": "execute_result"
    }
   ],
   "source": [
    "# tidak ada row yang duplicate\n",
    "df.duplicated().sum()"
   ]
  },
  {
   "cell_type": "markdown",
   "metadata": {},
   "source": [
    "### Mengganti term, emp_length ke bentuk number"
   ]
  },
  {
   "cell_type": "code",
   "execution_count": 145,
   "metadata": {},
   "outputs": [
    {
     "name": "stderr",
     "output_type": "stream",
     "text": [
      "C:\\Temp\\ipykernel_10940\\882243432.py:4: FutureWarning: The default value of regex will change from True to False in a future version.\n",
      "  df['emp_length_num'] = df['emp_length'].str.replace(r'\\+ years', r'').str.replace(r'< 1 year', r'1').str.replace(r' year', r'').str.replace(r's', r'')\n"
     ]
    }
   ],
   "source": [
    "# buat atribut baru yang berisi integer dari term\n",
    "df['term_month'] = df['term'].str.replace(r'months', r'')\n",
    "df['emp_length'].unique()\n",
    "df['emp_length_num'] = df['emp_length'].str.replace(r'\\+ years', r'').str.replace(r'< 1 year', r'1').str.replace(r' year', r'').str.replace(r's', r'')"
   ]
  },
  {
   "cell_type": "code",
   "execution_count": 146,
   "metadata": {},
   "outputs": [],
   "source": [
    "# DROP atribut yang sudah tidak terpakai\n",
    "df = df.drop([\n",
    "  'emp_length',\n",
    "  'term',\n",
    "  # free text\n",
    "  'desc'\n",
    "  ], axis=1).copy()"
   ]
  },
  {
   "cell_type": "code",
   "execution_count": 147,
   "metadata": {},
   "outputs": [
    {
     "data": {
      "text/plain": [
       "B    136929\n",
       "C    125293\n",
       "D     76888\n",
       "A     74867\n",
       "E     35757\n",
       "F     13229\n",
       "G      3322\n",
       "Name: grade, dtype: int64"
      ]
     },
     "execution_count": 147,
     "metadata": {},
     "output_type": "execute_result"
    }
   ],
   "source": [
    "df.grade.value_counts()"
   ]
  },
  {
   "cell_type": "markdown",
   "metadata": {},
   "source": [
    "## Convert Type data"
   ]
  },
  {
   "cell_type": "code",
   "execution_count": 148,
   "metadata": {},
   "outputs": [],
   "source": [
    "df['term_month'] = df['term_month'].astype('float32')\n",
    "df['emp_length_num'] = df['emp_length_num'].astype('Int64')"
   ]
  },
  {
   "cell_type": "markdown",
   "metadata": {},
   "source": [
    "## Penanganan data dengan korelasi tinggi"
   ]
  },
  {
   "cell_type": "code",
   "execution_count": 149,
   "metadata": {},
   "outputs": [
    {
     "name": "stderr",
     "output_type": "stream",
     "text": [
      "C:\\Temp\\ipykernel_10940\\1072140413.py:1: FutureWarning: The default value of numeric_only in DataFrame.corr is deprecated. In a future version, it will default to False. Select only valid columns or specify the value of numeric_only to silence this warning.\n",
      "  sns.heatmap(df.corr())\n"
     ]
    },
    {
     "data": {
      "text/plain": [
       "<AxesSubplot: >"
      ]
     },
     "execution_count": 149,
     "metadata": {},
     "output_type": "execute_result"
    },
    {
     "data": {
      "image/png": "[encoded data removed]",
      "text/plain": [
       "<Figure size 640x480 with 2 Axes>"
      ]
     },
     "metadata": {},
     "output_type": "display_data"
    }
   ],
   "source": [
    "sns.heatmap(df.corr())"
   ]
  },
  {
   "cell_type": "markdown",
   "metadata": {},
   "source": [
    "bisa dilihat dari hetamap diatas ada beberapa atribut yang memiliki korelasi tinggi yang bisa menyebabkan overfitting maka perlu di drop, aku menggunakan 0.6 sebagai patokan"
   ]
  },
  {
   "cell_type": "code",
   "execution_count": 150,
   "metadata": {},
   "outputs": [
    {
     "name": "stderr",
     "output_type": "stream",
     "text": [
      "C:\\Temp\\ipykernel_10940\\3527643712.py:1: FutureWarning: The default value of numeric_only in DataFrame.corr is deprecated. In a future version, it will default to False. Select only valid columns or specify the value of numeric_only to silence this warning.\n",
      "  dfCorr = df.corr().abs()\n",
      "C:\\Temp\\ipykernel_10940\\3527643712.py:2: DeprecationWarning: `np.bool` is a deprecated alias for the builtin `bool`. To silence this warning, use `bool` by itself. Doing this will not modify any behavior and is safe. If you specifically wanted the numpy scalar type, use `np.bool_` here.\n",
      "Deprecated in NumPy 1.20; for more details and guidance: https://numpy.org/devdocs/release/1.20.0-notes.html#deprecations\n",
      "  columns = dfCorr.where(np.triu(np.ones(dfCorr.shape), k=1).astype(np.bool))\n"
     ]
    }
   ],
   "source": [
    "dfCorr = df.corr().abs()\n",
    "columns = dfCorr.where(np.triu(np.ones(dfCorr.shape), k=1).astype(np.bool))\n",
    "dropCorr = [column for column in columns.columns if any(columns[column] > 0.6)]"
   ]
  },
  {
   "cell_type": "code",
   "execution_count": 151,
   "metadata": {},
   "outputs": [
    {
     "data": {
      "text/plain": [
       "['funded_amnt',\n",
       " 'funded_amnt_inv',\n",
       " 'installment',\n",
       " 'total_acc',\n",
       " 'out_prncp_inv',\n",
       " 'total_pymnt',\n",
       " 'total_pymnt_inv',\n",
       " 'total_rec_prncp',\n",
       " 'total_rec_int',\n",
       " 'collection_recovery_fee',\n",
       " 'last_pymnt_amnt',\n",
       " 'mths_since_last_major_derog',\n",
       " 'total_rev_hi_lim']"
      ]
     },
     "execution_count": 151,
     "metadata": {},
     "output_type": "execute_result"
    }
   ],
   "source": [
    "dropCorr"
   ]
  },
  {
   "cell_type": "code",
   "execution_count": 152,
   "metadata": {},
   "outputs": [],
   "source": [
    "df.drop(dropCorr, axis=1, inplace=True)"
   ]
  },
  {
   "cell_type": "markdown",
   "metadata": {},
   "source": [
    "## Penaganan Data Date"
   ]
  },
  {
   "cell_type": "markdown",
   "metadata": {},
   "source": [
    "earliest_cr_line dirubah ke integer dengan menghitung berapa hari menuju hari ini"
   ]
  },
  {
   "cell_type": "code",
   "execution_count": 154,
   "metadata": {},
   "outputs": [
    {
     "data": {
      "text/plain": [
       "0   1985-01-01\n",
       "1   1999-04-01\n",
       "2   2001-11-01\n",
       "Name: earliest_cr_line_day, dtype: datetime64[ns]"
      ]
     },
     "execution_count": 154,
     "metadata": {},
     "output_type": "execute_result"
    }
   ],
   "source": [
    "df['earliest_cr_line_day'] = pd.to_datetime(df['earliest_cr_line'], format='%b-%y')\n",
    "df['earliest_cr_line_day'].head(3)"
   ]
  },
  {
   "cell_type": "code",
   "execution_count": 155,
   "metadata": {},
   "outputs": [
    {
     "data": {
      "text/plain": [
       "0    467.0\n",
       "1    296.0\n",
       "2    265.0\n",
       "Name: earliest_cr_line_month_now, dtype: float64"
      ]
     },
     "execution_count": 155,
     "metadata": {},
     "output_type": "execute_result"
    }
   ],
   "source": [
    "df['earliest_cr_line_month_now'] = round(pd.to_numeric((pd.Timestamp.now()  - df['earliest_cr_line_day']) / np.timedelta64(1, 'M')))\n",
    "df['earliest_cr_line_month_now'].head(3)"
   ]
  },
  {
   "cell_type": "code",
   "execution_count": 156,
   "metadata": {},
   "outputs": [
    {
     "data": {
      "text/plain": [
       "count    466256.000000\n",
       "mean        311.482430\n",
       "std          93.974829\n",
       "min        -540.000000\n",
       "25%         255.000000\n",
       "50%         297.000000\n",
       "75%         357.000000\n",
       "max         659.000000\n",
       "Name: earliest_cr_line_month_now, dtype: float64"
      ]
     },
     "execution_count": 156,
     "metadata": {},
     "output_type": "execute_result"
    }
   ],
   "source": [
    "df['earliest_cr_line_month_now'].describe()"
   ]
  },
  {
   "cell_type": "code",
   "execution_count": 157,
   "metadata": {},
   "outputs": [],
   "source": [
    "df.drop(['earliest_cr_line', 'earliest_cr_line_day'], axis=1, inplace=True)"
   ]
  },
  {
   "cell_type": "markdown",
   "metadata": {},
   "source": [
    "### Issue_d"
   ]
  },
  {
   "cell_type": "code",
   "execution_count": 158,
   "metadata": {},
   "outputs": [
    {
     "data": {
      "text/plain": [
       "0    144.0\n",
       "1    144.0\n",
       "2    144.0\n",
       "Name: issue_d_day_month_now, dtype: float64"
      ]
     },
     "execution_count": 158,
     "metadata": {},
     "output_type": "execute_result"
    }
   ],
   "source": [
    "df['issue_d_day'] = pd.to_datetime(df['issue_d'], format='%b-%y')\n",
    "df['issue_d_day_month_now'] = round(pd.to_numeric((pd.Timestamp.now()  - df['issue_d_day']) / np.timedelta64(1, 'M')))\n",
    "df['issue_d_day_month_now'].head(3)"
   ]
  },
  {
   "cell_type": "code",
   "execution_count": 159,
   "metadata": {},
   "outputs": [],
   "source": [
    "df.drop(['issue_d', 'issue_d_day'], axis=1, inplace=True)"
   ]
  },
  {
   "cell_type": "markdown",
   "metadata": {},
   "source": [
    "### last_credit_pull_d"
   ]
  },
  {
   "cell_type": "code",
   "execution_count": 160,
   "metadata": {},
   "outputs": [
    {
     "data": {
      "text/plain": [
       "0     95.0\n",
       "1    123.0\n",
       "2     95.0\n",
       "Name: last_credit_pull_d_day_month_now, dtype: float64"
      ]
     },
     "execution_count": 160,
     "metadata": {},
     "output_type": "execute_result"
    }
   ],
   "source": [
    "df['last_credit_pull_d_day'] = pd.to_datetime(df['last_credit_pull_d'], format='%b-%y')\n",
    "df['last_credit_pull_d_day_month_now'] = round(pd.to_numeric((pd.Timestamp.now()  - df['last_credit_pull_d_day']) / np.timedelta64(1, 'M')))\n",
    "df['last_credit_pull_d_day_month_now'].head(3)"
   ]
  },
  {
   "cell_type": "code",
   "execution_count": 161,
   "metadata": {},
   "outputs": [],
   "source": [
    "df.drop(['last_credit_pull_d', 'last_credit_pull_d_day'], axis=1, inplace=True)"
   ]
  },
  {
   "cell_type": "markdown",
   "metadata": {},
   "source": [
    "### last_pymnt_d"
   ]
  },
  {
   "cell_type": "code",
   "execution_count": 162,
   "metadata": {},
   "outputs": [
    {
     "data": {
      "text/plain": [
       "0    107.0\n",
       "1    128.0\n",
       "2    114.0\n",
       "Name: last_pymnt_d_day_month_now, dtype: float64"
      ]
     },
     "execution_count": 162,
     "metadata": {},
     "output_type": "execute_result"
    }
   ],
   "source": [
    "df['last_pymnt_d_day'] = pd.to_datetime(df['last_pymnt_d'], format='%b-%y')\n",
    "df['last_pymnt_d_day_month_now'] = round(pd.to_numeric((pd.Timestamp.now()  - df['last_pymnt_d_day']) / np.timedelta64(1, 'M')))\n",
    "df['last_pymnt_d_day_month_now'].head(3)"
   ]
  },
  {
   "cell_type": "code",
   "execution_count": 163,
   "metadata": {},
   "outputs": [],
   "source": [
    "df.drop(['last_pymnt_d', 'last_pymnt_d_day'], axis=1, inplace=True)"
   ]
  },
  {
   "cell_type": "markdown",
   "metadata": {},
   "source": [
    "### next_pymnt_d"
   ]
  },
  {
   "cell_type": "code",
   "execution_count": 164,
   "metadata": {},
   "outputs": [
    {
     "data": {
      "text/plain": [
       "0   NaN\n",
       "1   NaN\n",
       "2   NaN\n",
       "Name: next_pymnt_d_day_month_now, dtype: float64"
      ]
     },
     "execution_count": 164,
     "metadata": {},
     "output_type": "execute_result"
    }
   ],
   "source": [
    "df['next_pymnt_d_day'] = pd.to_datetime(df['next_pymnt_d'], format='%b-%y')\n",
    "df['next_pymnt_d_day_month_now'] = round(pd.to_numeric((pd.Timestamp.now()  - df['next_pymnt_d_day']) / np.timedelta64(1, 'M')))\n",
    "df['next_pymnt_d_day_month_now'].head(3)"
   ]
  },
  {
   "cell_type": "code",
   "execution_count": 165,
   "metadata": {},
   "outputs": [],
   "source": [
    "df.drop(['next_pymnt_d', 'next_pymnt_d_day'], axis=1, inplace=True)"
   ]
  },
  {
   "cell_type": "markdown",
   "metadata": {},
   "source": [
    "## Drop Value yang memiliki nilai unique yang banyak"
   ]
  },
  {
   "cell_type": "code",
   "execution_count": 169,
   "metadata": {},
   "outputs": [],
   "source": [
    "df['sub_grade'].value_counts().count()\n",
    "df.drop(['sub_grade'], axis=1, inplace=True)\n"
   ]
  },
  {
   "cell_type": "code",
   "execution_count": 170,
   "metadata": {},
   "outputs": [],
   "source": [
    "df['title'].value_counts().count()\n",
    "df.drop(['title'], axis=1, inplace=True)"
   ]
  },
  {
   "cell_type": "code",
   "execution_count": 171,
   "metadata": {},
   "outputs": [],
   "source": [
    "df['emp_title'].value_counts().count()\n",
    "df.drop(['emp_title'], axis=1, inplace=True)"
   ]
  },
  {
   "cell_type": "code",
   "execution_count": 172,
   "metadata": {},
   "outputs": [],
   "source": [
    "df['dti'] = df['dti'].astype('int64')"
   ]
  },
  {
   "cell_type": "code",
   "execution_count": 173,
   "metadata": {},
   "outputs": [],
   "source": [
    "df.drop('pymnt_plan', axis=1, inplace=True)"
   ]
  },
  {
   "cell_type": "markdown",
   "metadata": {},
   "source": [
    "## Mengisi NaN"
   ]
  },
  {
   "cell_type": "code",
   "execution_count": 174,
   "metadata": {},
   "outputs": [],
   "source": [
    "df['annual_inc'].fillna(df['annual_inc'].mean(), inplace=True)\n",
    "df['inq_last_6mths'].fillna(0, inplace=True)\n",
    "df['pub_rec'].fillna(0, inplace=True)\n",
    "df['open_acc'].fillna(0, inplace=True)\n",
    "df['delinq_2yrs'].fillna(0, inplace=True)\n",
    "df['acc_now_delinq'].fillna(0, inplace=True)\n",
    "df['collections_12_mths_ex_med'].fillna(0, inplace=True)\n",
    "df['tot_cur_bal'].fillna(0, inplace=True)\n",
    "df['tot_coll_amt'].fillna(0, inplace=True)\n",
    "df['emp_length_num'].fillna(0, inplace=True)\n",
    "df['revol_util'].fillna(0, inplace=True)\n",
    "df['mths_since_last_delinq'].fillna(-1, inplace=True)\n",
    "df['next_pymnt_d_day_month_now'].fillna(-1, inplace=True)\n",
    "df['last_pymnt_d_day_month_now'].fillna(-1, inplace=True)\n",
    "df['last_credit_pull_d_day_month_now'].fillna(-1, inplace=True)\n",
    "df['earliest_cr_line_month_now'].fillna(-1, inplace=True)"
   ]
  },
  {
   "cell_type": "code",
   "execution_count": 175,
   "metadata": {},
   "outputs": [
    {
     "name": "stdout",
     "output_type": "stream",
     "text": [
      "<class 'pandas.core.frame.DataFrame'>\n",
      "RangeIndex: 466285 entries, 0 to 466284\n",
      "Data columns (total 32 columns):\n",
      " #   Column                            Non-Null Count   Dtype  \n",
      "---  ------                            --------------   -----  \n",
      " 0   loan_amnt                         466285 non-null  int64  \n",
      " 1   int_rate                          466285 non-null  float64\n",
      " 2   grade                             466285 non-null  object \n",
      " 3   home_ownership                    466285 non-null  object \n",
      " 4   annual_inc                        466285 non-null  float64\n",
      " 5   verification_status               466285 non-null  object \n",
      " 6   loan_status                       466285 non-null  int64  \n",
      " 7   purpose                           466285 non-null  object \n",
      " 8   addr_state                        466285 non-null  object \n",
      " 9   dti                               466285 non-null  int64  \n",
      " 10  delinq_2yrs                       466285 non-null  float64\n",
      " 11  inq_last_6mths                    466285 non-null  float64\n",
      " 12  mths_since_last_delinq            466285 non-null  float64\n",
      " 13  open_acc                          466285 non-null  float64\n",
      " 14  pub_rec                           466285 non-null  float64\n",
      " 15  revol_bal                         466285 non-null  int64  \n",
      " 16  revol_util                        466285 non-null  float64\n",
      " 17  initial_list_status               466285 non-null  object \n",
      " 18  out_prncp                         466285 non-null  float64\n",
      " 19  total_rec_late_fee                466285 non-null  float64\n",
      " 20  recoveries                        466285 non-null  float64\n",
      " 21  collections_12_mths_ex_med        466285 non-null  float64\n",
      " 22  acc_now_delinq                    466285 non-null  float64\n",
      " 23  tot_coll_amt                      466285 non-null  float64\n",
      " 24  tot_cur_bal                       466285 non-null  float64\n",
      " 25  term_month                        466285 non-null  float32\n",
      " 26  emp_length_num                    466285 non-null  Int64  \n",
      " 27  earliest_cr_line_month_now        466285 non-null  float64\n",
      " 28  issue_d_day_month_now             466285 non-null  float64\n",
      " 29  last_credit_pull_d_day_month_now  466285 non-null  float64\n",
      " 30  last_pymnt_d_day_month_now        466285 non-null  float64\n",
      " 31  next_pymnt_d_day_month_now        466285 non-null  float64\n",
      "dtypes: Int64(1), float32(1), float64(20), int64(4), object(6)\n",
      "memory usage: 112.5+ MB\n"
     ]
    }
   ],
   "source": [
    "df.info()"
   ]
  },
  {
   "cell_type": "code",
   "execution_count": 176,
   "metadata": {},
   "outputs": [],
   "source": [
    "df['emp_length_num'] = df['emp_length_num'].astype('int64')\n",
    "df['term_month'] = df['term_month'].astype('float64')\n"
   ]
  },
  {
   "cell_type": "code",
   "execution_count": 177,
   "metadata": {},
   "outputs": [],
   "source": [
    "categorical_cols = [col for col in df.select_dtypes(include='object').columns.tolist()]\n",
    "onehot = pd.get_dummies(df[categorical_cols], drop_first=True)"
   ]
  },
  {
   "cell_type": "code",
   "execution_count": 178,
   "metadata": {},
   "outputs": [],
   "source": [
    "numerical_cols = [col for col in df.columns.tolist() if col not in categorical_cols + ['loan_status']]\n",
    "from sklearn.preprocessing import StandardScaler\n",
    "\n",
    "ss = StandardScaler()\n",
    "std = pd.DataFrame(ss.fit_transform(df[numerical_cols]), columns=numerical_cols)"
   ]
  },
  {
   "cell_type": "code",
   "execution_count": 179,
   "metadata": {},
   "outputs": [],
   "source": [
    "data_model = pd.concat([onehot, std, df[['loan_status']]], axis=1)"
   ]
  },
  {
   "cell_type": "code",
   "execution_count": 180,
   "metadata": {},
   "outputs": [],
   "source": [
    "from sklearn.model_selection import train_test_split"
   ]
  },
  {
   "cell_type": "code",
   "execution_count": 181,
   "metadata": {},
   "outputs": [],
   "source": [
    "X = data_model.drop('loan_status', axis=1)\n",
    "y = data_model['loan_status']\n",
    "\n",
    "X_train, X_test, y_train, y_test = train_test_split(X, y, test_size=0.2, random_state=42)"
   ]
  },
  {
   "cell_type": "code",
   "execution_count": 182,
   "metadata": {},
   "outputs": [
    {
     "data": {
      "text/plain": [
       "((373028, 101), (93257, 101))"
      ]
     },
     "execution_count": 182,
     "metadata": {},
     "output_type": "execute_result"
    }
   ],
   "source": [
    "X_train.shape, X_test.shape"
   ]
  },
  {
   "cell_type": "code",
   "execution_count": 186,
   "metadata": {},
   "outputs": [
    {
     "data": {
      "image/png": "[encoded data removed]",
      "text/plain": [
       "<Figure size 640x480 with 1 Axes>"
      ]
     },
     "metadata": {},
     "output_type": "display_data"
    }
   ],
   "source": [
    "# Menghitung jumlah setiap nilai dalam kolom \"Loan_Status\"\n",
    "loan_status_counts = y_train.value_counts()\n",
    "\n",
    "# Membuat pie chart\n",
    "plt.pie(loan_status_counts, labels=loan_status_counts.index, autopct='%1.1f%%', startangle=140, colors=['skyblue', 'lightgreen'])\n",
    "plt.title('Distribusi Loan Status')\n",
    "plt.show()"
   ]
  },
  {
   "cell_type": "code",
   "execution_count": 184,
   "metadata": {},
   "outputs": [
    {
     "name": "stdout",
     "output_type": "stream",
     "text": [
      "<class 'pandas.core.frame.DataFrame'>\n",
      "Int64Index: 373028 entries, 427211 to 121958\n",
      "Columns: 101 entries, grade_B to next_pymnt_d_day_month_now\n",
      "dtypes: float64(25), uint8(76)\n",
      "memory usage: 101.0 MB\n"
     ]
    }
   ],
   "source": [
    "X_train.info()"
   ]
  },
  {
   "cell_type": "markdown",
   "metadata": {},
   "source": [
    "### Oversampling pada train_data"
   ]
  },
  {
   "cell_type": "code",
   "execution_count": 185,
   "metadata": {},
   "outputs": [],
   "source": [
    "from imblearn.over_sampling import SMOTE \n",
    "sm = SMOTE(random_state = 42) \n",
    "X_train_res, y_train_res = sm.fit_resample(X_train, y_train.ravel()) "
   ]
  },
  {
   "cell_type": "markdown",
   "metadata": {},
   "source": [
    "### Naive bayes"
   ]
  },
  {
   "cell_type": "code",
   "execution_count": 192,
   "metadata": {},
   "outputs": [
    {
     "name": "stdout",
     "output_type": "stream",
     "text": [
      "Akurasi 0.5791200660540228\n",
      "              precision    recall  f1-score   support\n",
      "\n",
      "           0       0.18      0.71      0.29     11080\n",
      "           1       0.93      0.56      0.70     82177\n",
      "\n",
      "    accuracy                           0.58     93257\n",
      "   macro avg       0.56      0.64      0.49     93257\n",
      "weighted avg       0.85      0.58      0.65     93257\n",
      "\n"
     ]
    }
   ],
   "source": [
    "from sklearn.naive_bayes import GaussianNB\n",
    "from sklearn.metrics import classification_report\n",
    "from sklearn.metrics import accuracy_score\n",
    "\n",
    "clf = GaussianNB()\n",
    "clf.fit(X_train_res, y_train_res)\n",
    "Y_pred = clf.predict(X_test)\n",
    "acc = accuracy_score(y_test, Y_pred)\n",
    "\n",
    "print(\"Akurasi {}\".format(acc))\n",
    "print(classification_report(y_test, Y_pred))\n",
    "# print(list(le.classes_))"
   ]
  },
  {
   "cell_type": "markdown",
   "metadata": {},
   "source": [
    "## Decision Tree"
   ]
  },
  {
   "cell_type": "code",
   "execution_count": 193,
   "metadata": {},
   "outputs": [
    {
     "name": "stdout",
     "output_type": "stream",
     "text": [
      "91.9759374631395\n",
      "              precision    recall  f1-score   support\n",
      "\n",
      "           0       0.65      0.72      0.68     11080\n",
      "           1       0.96      0.95      0.95     82177\n",
      "\n",
      "    accuracy                           0.92     93257\n",
      "   macro avg       0.80      0.83      0.82     93257\n",
      "weighted avg       0.92      0.92      0.92     93257\n",
      "\n"
     ]
    }
   ],
   "source": [
    "from sklearn.tree import DecisionTreeClassifier\n",
    "tree_model = DecisionTreeClassifier(random_state=1)\n",
    "tree_model.fit(X_train_res,y_train_res)\n",
    "pred_cv_tree=tree_model.predict(X_test)\n",
    "score_tree =accuracy_score(pred_cv_tree,y_test)*100 \n",
    "print(score_tree)\n",
    "print(classification_report(y_test, pred_cv_tree))"
   ]
  },
  {
   "cell_type": "markdown",
   "metadata": {},
   "source": [
    "## Radom Forest"
   ]
  },
  {
   "cell_type": "code",
   "execution_count": 196,
   "metadata": {},
   "outputs": [
    {
     "name": "stdout",
     "output_type": "stream",
     "text": [
      "akurasi: 92.1249879365624\n",
      "              precision    recall  f1-score   support\n",
      "\n",
      "           0       0.64      0.78      0.70     11080\n",
      "           1       0.97      0.94      0.95     82177\n",
      "\n",
      "    accuracy                           0.92     93257\n",
      "   macro avg       0.80      0.86      0.83     93257\n",
      "weighted avg       0.93      0.92      0.92     93257\n",
      "\n"
     ]
    }
   ],
   "source": [
    "from sklearn.ensemble import RandomForestClassifier\n",
    "forest_model = RandomForestClassifier(random_state=1,max_depth=10,n_estimators=50)\n",
    "forest_model.fit(X_train_res,y_train_res)\n",
    "pred_cv_forest=forest_model.predict(X_test)\n",
    "score_forest = accuracy_score(pred_cv_forest,y_test)*100\n",
    "print(\"akurasi:\",score_forest)\n",
    "print(classification_report(y_test, pred_cv_forest))"
   ]
  },
  {
   "cell_type": "markdown",
   "metadata": {},
   "source": [
    "## XGBoost"
   ]
  },
  {
   "cell_type": "code",
   "execution_count": 204,
   "metadata": {},
   "outputs": [
    {
     "name": "stdout",
     "output_type": "stream",
     "text": [
      "Akurasi :  93.89750903417438\n",
      "              precision    recall  f1-score   support\n",
      "\n",
      "           0       0.75      0.73      0.74     11080\n",
      "           1       0.96      0.97      0.97     82177\n",
      "\n",
      "    accuracy                           0.94     93257\n",
      "   macro avg       0.86      0.85      0.85     93257\n",
      "weighted avg       0.94      0.94      0.94     93257\n",
      "\n"
     ]
    }
   ],
   "source": [
    "from xgboost import XGBClassifier\n",
    "xgb_model = XGBClassifier(n_estimators=50,max_depth=4)\n",
    "xgb_model.fit(X_train_res,y_train_res)\n",
    "pred_xgb=xgb_model.predict(X_test)\n",
    "score_xgb = accuracy_score(pred_xgb,y_test)*100\n",
    "print(\"Akurasi : \", score_xgb)\n",
    "print(classification_report(y_test, pred_xgb))"
   ]
  }
 ],
 "metadata": {
  "kernelspec": {
   "display_name": "Python 3 (ipykernel)",
   "language": "python",
   "name": "python3"
  },
  "language_info": {
   "codemirror_mode": {
    "name": "ipython",
    "version": 3
   },
   "file_extension": ".py",
   "mimetype": "text/x-python",
   "name": "python",
   "nbconvert_exporter": "python",
   "pygments_lexer": "ipython3",
   "version": "3.8.0"
  }
 },
 "nbformat": 4,
 "nbformat_minor": 4
}
